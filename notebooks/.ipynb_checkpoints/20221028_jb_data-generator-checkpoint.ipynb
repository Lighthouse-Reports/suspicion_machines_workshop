{
 "cells": [
  {
   "cell_type": "code",
   "execution_count": 1,
   "id": "3f42b56f",
   "metadata": {},
   "outputs": [],
   "source": [
    "from data_generator import *\n",
    "import pandas as pd\n",
    "import numpy as np\n",
    "import configparser\n",
    "import ast"
   ]
  },
  {
   "cell_type": "code",
   "execution_count": 2,
   "id": "675f8bd6",
   "metadata": {},
   "outputs": [
    {
     "name": "stdout",
     "output_type": "stream",
     "text": [
      "{'afspraak_deelname_compleet_uit_webapplicatie': [0, 1], 'instrument_reden_beeindiging_historie_overdracht_naar_mo': [2, 3]}\n"
     ]
    }
   ],
   "source": [
    "###LOAD CONFIG FILE###\n",
    "conf_path = '../conf/config_test.ini' ###USER: change config filepath###\n",
    "config = configparser.ConfigParser(allow_no_value=True)\n",
    "config.read(conf_path)\n",
    "\n",
    "meta = config['META']\n",
    "user = meta['user']\n",
    "date = meta['date']\n",
    "name = meta['name']\n",
    "dest_filename = '../data/02_intermediate/'+date+'_'+user+'_'+name+'.csv'\n",
    "\n",
    "filepaths = config['FILEPATHS']\n",
    "real_fp = filepaths['real']\n",
    "synth_fp = filepaths['synth']\n",
    "\n",
    "variables = config['VARIABLES']\n",
    "var_values = variables['var_values']\n",
    "var_values = ast.literal_eval(var_values)"
   ]
  },
  {
   "cell_type": "code",
   "execution_count": 4,
   "id": "827ae6ab",
   "metadata": {},
   "outputs": [],
   "source": [
    "###LOAD DATA###\n",
    "real = pd.read_csv(real_fp)\n",
    "synth = pd.read_csv(synth_fp)"
   ]
  },
  {
   "cell_type": "code",
   "execution_count": 5,
   "id": "03ffc957",
   "metadata": {},
   "outputs": [
    {
     "name": "stdout",
     "output_type": "stream",
     "text": [
      "You have chosen 2 variables, which will be held at constant values.\n",
      "\n"
     ]
    }
   ],
   "source": [
    "###check user inputs from config file###\n",
    "check_user_inputs(real, var_values)"
   ]
  },
  {
   "cell_type": "code",
   "execution_count": 6,
   "id": "557265d4",
   "metadata": {},
   "outputs": [
    {
     "name": "stdout",
     "output_type": "stream",
     "text": [
      "(12, 316)\n"
     ]
    }
   ],
   "source": [
    "###GENERATE AVERAGES###\n",
    "averages = generate_averages(real, var_values)\n",
    "averages['data_type'] = 'averages'\n",
    "print(averages.shape)"
   ]
  },
  {
   "cell_type": "code",
   "execution_count": 7,
   "id": "a8d18699",
   "metadata": {},
   "outputs": [
    {
     "name": "stdout",
     "output_type": "stream",
     "text": [
      "(101, 316)\n"
     ]
    }
   ],
   "source": [
    "###SLICE REAL###\n",
    "real_exp = slice_data(real, var_values)\n",
    "real_exp['data_type'] = 'real'\n",
    "print(real_exp.shape)"
   ]
  },
  {
   "cell_type": "code",
   "execution_count": 8,
   "id": "cc8baab8",
   "metadata": {},
   "outputs": [
    {
     "name": "stdout",
     "output_type": "stream",
     "text": [
      "(7, 316)\n"
     ]
    }
   ],
   "source": [
    "###SLICE SYNTHETIC###\n",
    "synth_exp = slice_data(synth, var_values)\n",
    "synth_exp['data_type'] = 'synth'\n",
    "print(synth_exp.shape)"
   ]
  },
  {
   "cell_type": "code",
   "execution_count": 9,
   "id": "dc6c9e59",
   "metadata": {},
   "outputs": [
    {
     "name": "stdout",
     "output_type": "stream",
     "text": [
      "(120, 316)\n"
     ]
    }
   ],
   "source": [
    "###SAVE FILE###\n",
    "data_exp = pd.concat([averages, real_exp, synth_exp])\n",
    "print(data_exp.shape)\n",
    "data_exp.to_csv(dest_filename)"
   ]
  }
 ],
 "metadata": {
  "kernelspec": {
   "display_name": "Python 3 (ipykernel)",
   "language": "python",
   "name": "python3"
  },
  "language_info": {
   "codemirror_mode": {
    "name": "ipython",
    "version": 3
   },
   "file_extension": ".py",
   "mimetype": "text/x-python",
   "name": "python",
   "nbconvert_exporter": "python",
   "pygments_lexer": "ipython3",
   "version": "3.8.10"
  },
  "vscode": {
   "interpreter": {
    "hash": "916dbcbb3f70747c44a77c7bcd40155683ae19c65e1c03b4aa3499c5328201f1"
   }
  }
 },
 "nbformat": 4,
 "nbformat_minor": 5
}
