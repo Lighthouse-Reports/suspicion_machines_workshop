{
 "cells": [
  {
   "cell_type": "markdown",
   "metadata": {},
   "source": [
    "### Create Gender Breakdown "
   ]
  },
  {
   "cell_type": "code",
   "execution_count": 9,
   "metadata": {},
   "outputs": [],
   "source": [
    "import pandas as pd \n",
    "import os \n",
    "\n",
    "# Set directory\n",
    "os.chdir(\"/Users/gsgeiger/suspicion_machines_workshop\")\n",
    "\n",
    "\n",
    "synth_df = pd.read_csv(\"data/01_raw/synth_data.csv\")\n",
    "\n",
    "\n",
    "df = pd.DataFrame({\"gender\":[\"Man\",\"Woman\"],\"count_real_world\":[15826,17403]})\n",
    "\n",
    "\n",
    "df[\"count_training_data\"] = synth_df[\"persoon_geslacht_vrouw\"].value_counts()\n",
    "\n",
    "df[\"investigated_real_world_2020\"] = [301,906]\n",
    "\n",
    "df.to_csv(\"data/02_intermediate/gender_data.csv\")\n",
    "\n"
   ]
  }
 ],
 "metadata": {
  "kernelspec": {
   "display_name": "Python 3",
   "language": "python",
   "name": "python3"
  },
  "language_info": {
   "codemirror_mode": {
    "name": "ipython",
    "version": 3
   },
   "file_extension": ".py",
   "mimetype": "text/x-python",
   "name": "python",
   "nbconvert_exporter": "python",
   "pygments_lexer": "ipython3",
   "version": "3.11.4"
  }
 },
 "nbformat": 4,
 "nbformat_minor": 2
}
